{
  "nbformat": 4,
  "nbformat_minor": 0,
  "metadata": {
    "colab": {
      "name": "Malaria.ipynb",
      "provenance": [],
      "collapsed_sections": [],
      "authorship_tag": "ABX9TyPa/ycC6AE0MANctMzrwPD3",
      "include_colab_link": true
    },
    "kernelspec": {
      "name": "python3",
      "display_name": "Python 3"
    },
    "language_info": {
      "name": "python"
    }
  },
  "cells": [
    {
      "cell_type": "markdown",
      "metadata": {
        "id": "view-in-github",
        "colab_type": "text"
      },
      "source": [
        "<a href=\"https://colab.research.google.com/github/Tushy12/malaria/blob/main/Malaria.ipynb\" target=\"_parent\"><img src=\"https://colab.research.google.com/assets/colab-badge.svg\" alt=\"Open In Colab\"/></a>"
      ]
    },
    {
      "cell_type": "code",
      "metadata": {
        "id": "UingsIuOiiuQ"
      },
      "source": [
        "import numpy as np\n",
        "import pandas as pd\n",
        "import matplotlib.pyplot as plt\n",
        "import seaborn as sns\n",
        "\n",
        "from matplotlib.image import imread"
      ],
      "execution_count": null,
      "outputs": []
    },
    {
      "cell_type": "code",
      "metadata": {
        "colab": {
          "base_uri": "https://localhost:8080/"
        },
        "id": "dWH8WxrzmwTj",
        "outputId": "60f70bba-238e-4f2b-8331-3303093ca25f"
      },
      "source": [
        "from google.colab import drive\n",
        "drive.mount('/content/drive/')"
      ],
      "execution_count": null,
      "outputs": [
        {
          "output_type": "stream",
          "text": [
            "Drive already mounted at /content/drive/; to attempt to forcibly remount, call drive.mount(\"/content/drive/\", force_remount=True).\n"
          ],
          "name": "stdout"
        }
      ]
    },
    {
      "cell_type": "code",
      "metadata": {
        "id": "w9jEwFkSpv7F"
      },
      "source": [
        "data_dir = '/content/drive/MyDrive/cell_images'\n",
        "\n",
        "parasite_tpath = data_dir+'/train/parasitized/'\n",
        "uninfected_tpath = data_dir+'/train/uninfected/'\n",
        "\n",
        "parasite_path = data_dir+'/test/parasitized/'\n",
        "uninfected_path = data_dir+'/test/uninfected/'"
      ],
      "execution_count": null,
      "outputs": []
    },
    {
      "cell_type": "code",
      "metadata": {
        "id": "zT78T_D03axq"
      },
      "source": [
        "import os"
      ],
      "execution_count": null,
      "outputs": []
    },
    {
      "cell_type": "code",
      "metadata": {
        "id": "OigxAgIv1VRD"
      },
      "source": [
        "cell1 = os.listdir(uninfected_tpath)[0]"
      ],
      "execution_count": null,
      "outputs": []
    },
    {
      "cell_type": "code",
      "metadata": {
        "colab": {
          "base_uri": "https://localhost:8080/",
          "height": 35
        },
        "id": "Mo2UaDU4r7_t",
        "outputId": "3cb7f361-e8f7-4c9b-95ae-dc0326eab1ed"
      },
      "source": [
        "cell1"
      ],
      "execution_count": null,
      "outputs": [
        {
          "output_type": "execute_result",
          "data": {
            "application/vnd.google.colaboratory.intrinsic+json": {
              "type": "string"
            },
            "text/plain": [
              "'C93P54ThinF_IMG_20150821_163815_cell_132.png'"
            ]
          },
          "metadata": {
            "tags": []
          },
          "execution_count": 101
        }
      ]
    },
    {
      "cell_type": "code",
      "metadata": {
        "colab": {
          "base_uri": "https://localhost:8080/",
          "height": 286
        },
        "id": "FVeN0qgUozWw",
        "outputId": "f37f6277-64f2-4935-dd8a-c496846f1236"
      },
      "source": [
        "plt.imshow(imread(uninfected_tpath+cell1))"
      ],
      "execution_count": null,
      "outputs": [
        {
          "output_type": "execute_result",
          "data": {
            "text/plain": [
              "<matplotlib.image.AxesImage at 0x7f2653001f50>"
            ]
          },
          "metadata": {
            "tags": []
          },
          "execution_count": 102
        },
        {
          "output_type": "display_data",
          "data": {
            "image/png": "[encoded data removed]",
            "text/plain": [
              "<Figure size 432x288 with 1 Axes>"
            ]
          },
          "metadata": {
            "tags": [],
            "needs_background": "light"
          }
        }
      ]
    },
    {
      "cell_type": "code",
      "metadata": {
        "colab": {
          "base_uri": "https://localhost:8080/"
        },
        "id": "2eS0nnrpo4H0",
        "outputId": "d31c9bb3-e438-409c-c313-c1a0e6edb8f8"
      },
      "source": [
        "imread(uninfected_tpath+cell1).shape"
      ],
      "execution_count": null,
      "outputs": [
        {
          "output_type": "execute_result",
          "data": {
            "text/plain": [
              "(133, 136, 3)"
            ]
          },
          "metadata": {
            "tags": []
          },
          "execution_count": 103
        }
      ]
    },
    {
      "cell_type": "code",
      "metadata": {
        "colab": {
          "base_uri": "https://localhost:8080/"
        },
        "id": "LAsT94v_tN4-",
        "outputId": "70431890-a4db-4f07-f005-57d5ae2cd7f9"
      },
      "source": [
        "print (len(os.listdir(parasite_tpath)),len(os.listdir(uninfected_tpath)))"
      ],
      "execution_count": null,
      "outputs": [
        {
          "output_type": "stream",
          "text": [
            "12480 12486\n"
          ],
          "name": "stdout"
        }
      ]
    },
    {
      "cell_type": "code",
      "metadata": {
        "colab": {
          "base_uri": "https://localhost:8080/"
        },
        "id": "0LtxLJ79tZ2x",
        "outputId": "46c08bbd-795c-4c8f-bdb7-830eb1dd65db"
      },
      "source": [
        "print (len(os.listdir(parasite_path)),len(os.listdir(uninfected_path)))"
      ],
      "execution_count": null,
      "outputs": [
        {
          "output_type": "stream",
          "text": [
            "1300 1300\n"
          ],
          "name": "stdout"
        }
      ]
    },
    {
      "cell_type": "markdown",
      "metadata": {
        "id": "zKUh0_dmv6kH"
      },
      "source": [
        "#### Since the dimensions of the provided images may not be same, thus "
      ]
    },
    {
      "cell_type": "code",
      "metadata": {
        "id": "8P_hbwKbuloy"
      },
      "source": [
        "dim1 = []\n",
        "dim2 = []\n",
        "\n",
        "for image_filename in os.listdir(uninfected_path):\n",
        "\n",
        "  img = imread(uninfected_path+image_filename)\n",
        "  d1, d2, colors = img.shape\n",
        "  dim1.append(d1)\n",
        "  dim2.append(d2)"
      ],
      "execution_count": null,
      "outputs": []
    },
    {
      "cell_type": "code",
      "metadata": {
        "id": "pSiimUpexMpX",
        "colab": {
          "base_uri": "https://localhost:8080/"
        },
        "outputId": "ee64be64-3d95-47d0-b5bd-5242ebd3650a"
      },
      "source": [
        "dim1  ## Here we can see that all images are of different dimensions"
      ],
      "execution_count": null,
      "outputs": [
        {
          "output_type": "execute_result",
          "data": {
            "text/plain": [
              "[115,\n",
              " 136,\n",
              " 142,\n",
              " 163,\n",
              " 175,\n",
              " 127,\n",
              " 172,\n",
              " 133,\n",
              " 130,\n",
              " 136,\n",
              " 115,\n",
              " 106,\n",
              " 115,\n",
              " 130,\n",
              " 154,\n",
              " 106,\n",
              " 145,\n",
              " 166,\n",
              " 142,\n",
              " 136,\n",
              " 124,\n",
              " 124,\n",
              " 142,\n",
              " 124,\n",
              " 142,\n",
              " 124,\n",
              " 142,\n",
              " 151,\n",
              " 136,\n",
              " 115,\n",
              " 118,\n",
              " 145,\n",
              " 145,\n",
              " 112,\n",
              " 109,\n",
              " 118,\n",
              " 118,\n",
              " 121,\n",
              " 136,\n",
              " 109,\n",
              " 121,\n",
              " 124,\n",
              " 127,\n",
              " 109,\n",
              " 175,\n",
              " 118,\n",
              " 106,\n",
              " 109,\n",
              " 97,\n",
              " 124,\n",
              " 127,\n",
              " 130,\n",
              " 103,\n",
              " 124,\n",
              " 127,\n",
              " 118,\n",
              " 115,\n",
              " 109,\n",
              " 91,\n",
              " 139,\n",
              " 94,\n",
              " 130,\n",
              " 112,\n",
              " 121,\n",
              " 130,\n",
              " 106,\n",
              " 136,\n",
              " 103,\n",
              " 121,\n",
              " 97,\n",
              " 127,\n",
              " 121,\n",
              " 118,\n",
              " 100,\n",
              " 133,\n",
              " 157,\n",
              " 130,\n",
              " 112,\n",
              " 106,\n",
              " 109,\n",
              " 109,\n",
              " 127,\n",
              " 115,\n",
              " 133,\n",
              " 121,\n",
              " 142,\n",
              " 175,\n",
              " 115,\n",
              " 106,\n",
              " 118,\n",
              " 127,\n",
              " 133,\n",
              " 127,\n",
              " 109,\n",
              " 124,\n",
              " 97,\n",
              " 151,\n",
              " 127,\n",
              " 106,\n",
              " 133,\n",
              " 130,\n",
              " 112,\n",
              " 103,\n",
              " 166,\n",
              " 85,\n",
              " 127,\n",
              " 124,\n",
              " 127,\n",
              " 106,\n",
              " 121,\n",
              " 115,\n",
              " 130,\n",
              " 172,\n",
              " 124,\n",
              " 124,\n",
              " 133,\n",
              " 115,\n",
              " 118,\n",
              " 112,\n",
              " 124,\n",
              " 124,\n",
              " 130,\n",
              " 121,\n",
              " 136,\n",
              " 142,\n",
              " 145,\n",
              " 118,\n",
              " 145,\n",
              " 130,\n",
              " 109,\n",
              " 124,\n",
              " 127,\n",
              " 121,\n",
              " 127,\n",
              " 118,\n",
              " 130,\n",
              " 97,\n",
              " 103,\n",
              " 127,\n",
              " 130,\n",
              " 130,\n",
              " 91,\n",
              " 118,\n",
              " 136,\n",
              " 118,\n",
              " 115,\n",
              " 97,\n",
              " 124,\n",
              " 127,\n",
              " 130,\n",
              " 130,\n",
              " 112,\n",
              " 100,\n",
              " 127,\n",
              " 139,\n",
              " 112,\n",
              " 154,\n",
              " 127,\n",
              " 133,\n",
              " 103,\n",
              " 124,\n",
              " 145,\n",
              " 148,\n",
              " 124,\n",
              " 121,\n",
              " 133,\n",
              " 106,\n",
              " 106,\n",
              " 124,\n",
              " 130,\n",
              " 130,\n",
              " 112,\n",
              " 139,\n",
              " 121,\n",
              " 118,\n",
              " 121,\n",
              " 160,\n",
              " 103,\n",
              " 136,\n",
              " 112,\n",
              " 115,\n",
              " 115,\n",
              " 148,\n",
              " 136,\n",
              " 163,\n",
              " 112,\n",
              " 124,\n",
              " 94,\n",
              " 127,\n",
              " 145,\n",
              " 118,\n",
              " 136,\n",
              " 127,\n",
              " 124,\n",
              " 136,\n",
              " 97,\n",
              " 109,\n",
              " 127,\n",
              " 121,\n",
              " 121,\n",
              " 130,\n",
              " 109,\n",
              " 130,\n",
              " 121,\n",
              " 100,\n",
              " 109,\n",
              " 127,\n",
              " 124,\n",
              " 100,\n",
              " 115,\n",
              " 124,\n",
              " 115,\n",
              " 133,\n",
              " 118,\n",
              " 118,\n",
              " 121,\n",
              " 118,\n",
              " 175,\n",
              " 172,\n",
              " 124,\n",
              " 130,\n",
              " 190,\n",
              " 145,\n",
              " 118,\n",
              " 124,\n",
              " 130,\n",
              " 112,\n",
              " 139,\n",
              " 154,\n",
              " 112,\n",
              " 106,\n",
              " 133,\n",
              " 124,\n",
              " 130,\n",
              " 118,\n",
              " 118,\n",
              " 154,\n",
              " 127,\n",
              " 142,\n",
              " 139,\n",
              " 115,\n",
              " 145,\n",
              " 127,\n",
              " 121,\n",
              " 103,\n",
              " 118,\n",
              " 112,\n",
              " 148,\n",
              " 133,\n",
              " 148,\n",
              " 127,\n",
              " 148,\n",
              " 133,\n",
              " 88,\n",
              " 148,\n",
              " 169,\n",
              " 136,\n",
              " 139,\n",
              " 115,\n",
              " 115,\n",
              " 130,\n",
              " 127,\n",
              " 154,\n",
              " 160,\n",
              " 136,\n",
              " 127,\n",
              " 115,\n",
              " 136,\n",
              " 142,\n",
              " 142,\n",
              " 124,\n",
              " 142,\n",
              " 130,\n",
              " 151,\n",
              " 133,\n",
              " 142,\n",
              " 124,\n",
              " 145,\n",
              " 115,\n",
              " 97,\n",
              " 121,\n",
              " 130,\n",
              " 112,\n",
              " 142,\n",
              " 130,\n",
              " 154,\n",
              " 121,\n",
              " 178,\n",
              " 136,\n",
              " 136,\n",
              " 136,\n",
              " 124,\n",
              " 136,\n",
              " 112,\n",
              " 118,\n",
              " 163,\n",
              " 121,\n",
              " 121,\n",
              " 124,\n",
              " 133,\n",
              " 124,\n",
              " 130,\n",
              " 148,\n",
              " 121,\n",
              " 121,\n",
              " 142,\n",
              " 121,\n",
              " 142,\n",
              " 142,\n",
              " 139,\n",
              " 145,\n",
              " 136,\n",
              " 121,\n",
              " 124,\n",
              " 136,\n",
              " 178,\n",
              " 130,\n",
              " 145,\n",
              " 136,\n",
              " 124,\n",
              " 130,\n",
              " 148,\n",
              " 115,\n",
              " 136,\n",
              " 130,\n",
              " 133,\n",
              " 145,\n",
              " 118,\n",
              " 148,\n",
              " 94,\n",
              " 127,\n",
              " 136,\n",
              " 133,\n",
              " 106,\n",
              " 154,\n",
              " 127,\n",
              " 124,\n",
              " 103,\n",
              " 145,\n",
              " 124,\n",
              " 109,\n",
              " 127,\n",
              " 118,\n",
              " 148,\n",
              " 121,\n",
              " 121,\n",
              " 118,\n",
              " 145,\n",
              " 130,\n",
              " 88,\n",
              " 130,\n",
              " 109,\n",
              " 118,\n",
              " 136,\n",
              " 139,\n",
              " 118,\n",
              " 109,\n",
              " 115,\n",
              " 142,\n",
              " 142,\n",
              " 172,\n",
              " 130,\n",
              " 121,\n",
              " 106,\n",
              " 130,\n",
              " 151,\n",
              " 121,\n",
              " 130,\n",
              " 112,\n",
              " 85,\n",
              " 136,\n",
              " 112,\n",
              " 142,\n",
              " 148,\n",
              " 145,\n",
              " 148,\n",
              " 124,\n",
              " 115,\n",
              " 130,\n",
              " 127,\n",
              " 151,\n",
              " 136,\n",
              " 148,\n",
              " 148,\n",
              " 124,\n",
              " 124,\n",
              " 127,\n",
              " 160,\n",
              " 130,\n",
              " 91,\n",
              " 118,\n",
              " 133,\n",
              " 127,\n",
              " 136,\n",
              " 121,\n",
              " 127,\n",
              " 130,\n",
              " 127,\n",
              " 142,\n",
              " 124,\n",
              " 127,\n",
              " 139,\n",
              " 124,\n",
              " 106,\n",
              " 100,\n",
              " 118,\n",
              " 124,\n",
              " 136,\n",
              " 154,\n",
              " 118,\n",
              " 115,\n",
              " 118,\n",
              " 94,\n",
              " 133,\n",
              " 112,\n",
              " 136,\n",
              " 133,\n",
              " 133,\n",
              " 130,\n",
              " 121,\n",
              " 136,\n",
              " 139,\n",
              " 124,\n",
              " 136,\n",
              " 166,\n",
              " 133,\n",
              " 130,\n",
              " 124,\n",
              " 124,\n",
              " 109,\n",
              " 118,\n",
              " 133,\n",
              " 133,\n",
              " 127,\n",
              " 142,\n",
              " 124,\n",
              " 127,\n",
              " 136,\n",
              " 133,\n",
              " 112,\n",
              " 112,\n",
              " 133,\n",
              " 124,\n",
              " 109,\n",
              " 124,\n",
              " 103,\n",
              " 112,\n",
              " 178,\n",
              " 148,\n",
              " 145,\n",
              " 124,\n",
              " 133,\n",
              " 142,\n",
              " 160,\n",
              " 127,\n",
              " 106,\n",
              " 118,\n",
              " 124,\n",
              " 139,\n",
              " 124,\n",
              " 109,\n",
              " 124,\n",
              " 145,\n",
              " 127,\n",
              " 118,\n",
              " 148,\n",
              " 163,\n",
              " 124,\n",
              " 130,\n",
              " 124,\n",
              " 145,\n",
              " 154,\n",
              " 142,\n",
              " 115,\n",
              " 118,\n",
              " 136,\n",
              " 136,\n",
              " 139,\n",
              " 142,\n",
              " 154,\n",
              " 124,\n",
              " 139,\n",
              " 118,\n",
              " 139,\n",
              " 127,\n",
              " 121,\n",
              " 160,\n",
              " 106,\n",
              " 142,\n",
              " 154,\n",
              " 127,\n",
              " 103,\n",
              " 142,\n",
              " 157,\n",
              " 154,\n",
              " 142,\n",
              " 136,\n",
              " 124,\n",
              " 127,\n",
              " 118,\n",
              " 136,\n",
              " 154,\n",
              " 133,\n",
              " 136,\n",
              " 139,\n",
              " 121,\n",
              " 130,\n",
              " 121,\n",
              " 142,\n",
              " 157,\n",
              " 130,\n",
              " 145,\n",
              " 136,\n",
              " 133,\n",
              " 139,\n",
              " 133,\n",
              " 115,\n",
              " 109,\n",
              " 145,\n",
              " 142,\n",
              " 142,\n",
              " 115,\n",
              " 133,\n",
              " 130,\n",
              " 118,\n",
              " 136,\n",
              " 133,\n",
              " 136,\n",
              " 121,\n",
              " 121,\n",
              " 136,\n",
              " 106,\n",
              " 157,\n",
              " 112,\n",
              " 133,\n",
              " 124,\n",
              " 151,\n",
              " 106,\n",
              " 139,\n",
              " 136,\n",
              " 103,\n",
              " 124,\n",
              " 136,\n",
              " 139,\n",
              " 133,\n",
              " 136,\n",
              " 124,\n",
              " 145,\n",
              " 97,\n",
              " 154,\n",
              " 139,\n",
              " 160,\n",
              " 130,\n",
              " 118,\n",
              " 136,\n",
              " 121,\n",
              " 136,\n",
              " 139,\n",
              " 106,\n",
              " 139,\n",
              " 130,\n",
              " 154,\n",
              " 97,\n",
              " 115,\n",
              " 136,\n",
              " 106,\n",
              " 124,\n",
              " 127,\n",
              " 169,\n",
              " 115,\n",
              " 127,\n",
              " 118,\n",
              " 112,\n",
              " 136,\n",
              " 166,\n",
              " 151,\n",
              " 112,\n",
              " 142,\n",
              " 115,\n",
              " 130,\n",
              " 115,\n",
              " 142,\n",
              " 133,\n",
              " 127,\n",
              " 121,\n",
              " 124,\n",
              " 136,\n",
              " 133,\n",
              " 136,\n",
              " 142,\n",
              " 112,\n",
              " 130,\n",
              " 127,\n",
              " 118,\n",
              " 127,\n",
              " 130,\n",
              " 112,\n",
              " 139,\n",
              " 121,\n",
              " 121,\n",
              " 142,\n",
              " 121,\n",
              " 148,\n",
              " 115,\n",
              " 136,\n",
              " 118,\n",
              " 160,\n",
              " 124,\n",
              " 193,\n",
              " 139,\n",
              " 199,\n",
              " 124,\n",
              " 118,\n",
              " 127,\n",
              " 160,\n",
              " 127,\n",
              " 169,\n",
              " 130,\n",
              " 121,\n",
              " 112,\n",
              " 127,\n",
              " 148,\n",
              " 85,\n",
              " 121,\n",
              " 115,\n",
              " 121,\n",
              " 142,\n",
              " 130,\n",
              " 121,\n",
              " 109,\n",
              " 124,\n",
              " 142,\n",
              " 112,\n",
              " 121,\n",
              " 115,\n",
              " 160,\n",
              " 160,\n",
              " 133,\n",
              " 133,\n",
              " 139,\n",
              " 124,\n",
              " 118,\n",
              " 124,\n",
              " 160,\n",
              " 103,\n",
              " 139,\n",
              " 142,\n",
              " 115,\n",
              " 124,\n",
              " 130,\n",
              " 130,\n",
              " 127,\n",
              " 133,\n",
              " 133,\n",
              " 118,\n",
              " 127,\n",
              " 121,\n",
              " 199,\n",
              " 127,\n",
              " 145,\n",
              " 121,\n",
              " 124,\n",
              " 103,\n",
              " 127,\n",
              " 118,\n",
              " 157,\n",
              " 133,\n",
              " 103,\n",
              " 127,\n",
              " 115,\n",
              " 181,\n",
              " 160,\n",
              " 130,\n",
              " 103,\n",
              " 133,\n",
              " 121,\n",
              " 118,\n",
              " 151,\n",
              " 169,\n",
              " 121,\n",
              " 133,\n",
              " 124,\n",
              " 130,\n",
              " 94,\n",
              " 112,\n",
              " 130,\n",
              " 115,\n",
              " 136,\n",
              " 112,\n",
              " 115,\n",
              " 106,\n",
              " 118,\n",
              " 139,\n",
              " 100,\n",
              " 121,\n",
              " 115,\n",
              " 127,\n",
              " 148,\n",
              " 130,\n",
              " 121,\n",
              " 127,\n",
              " 94,\n",
              " 103,\n",
              " 130,\n",
              " 139,\n",
              " 124,\n",
              " 169,\n",
              " 142,\n",
              " 121,\n",
              " 121,\n",
              " 139,\n",
              " 130,\n",
              " 103,\n",
              " 127,\n",
              " 130,\n",
              " 124,\n",
              " 106,\n",
              " 136,\n",
              " 130,\n",
              " 136,\n",
              " 124,\n",
              " 103,\n",
              " 151,\n",
              " 118,\n",
              " 157,\n",
              " 127,\n",
              " 139,\n",
              " 118,\n",
              " 124,\n",
              " 130,\n",
              " 121,\n",
              " 127,\n",
              " 124,\n",
              " 121,\n",
              " 124,\n",
              " 127,\n",
              " 184,\n",
              " 142,\n",
              " 133,\n",
              " 133,\n",
              " 118,\n",
              " 124,\n",
              " 106,\n",
              " 109,\n",
              " 145,\n",
              " 130,\n",
              " 121,\n",
              " 172,\n",
              " 142,\n",
              " 133,\n",
              " 121,\n",
              " 163,\n",
              " 136,\n",
              " 139,\n",
              " 124,\n",
              " 112,\n",
              " 172,\n",
              " 127,\n",
              " 130,\n",
              " 124,\n",
              " 133,\n",
              " 124,\n",
              " 169,\n",
              " 118,\n",
              " 136,\n",
              " 154,\n",
              " 154,\n",
              " 118,\n",
              " 145,\n",
              " 124,\n",
              " 127,\n",
              " 106,\n",
              " 130,\n",
              " 145,\n",
              " 139,\n",
              " 133,\n",
              " 133,\n",
              " 151,\n",
              " 136,\n",
              " 61,\n",
              " 118,\n",
              " 130,\n",
              " 121,\n",
              " 133,\n",
              " 121,\n",
              " 97,\n",
              " 106,\n",
              " 106,\n",
              " 127,\n",
              " 121,\n",
              " 214,\n",
              " 166,\n",
              " 109,\n",
              " 130,\n",
              " 115,\n",
              " 115,\n",
              " 133,\n",
              " 145,\n",
              " 124,\n",
              " 124,\n",
              " 127,\n",
              " 139,\n",
              " 127,\n",
              " 145,\n",
              " 130,\n",
              " 130,\n",
              " 121,\n",
              " 160,\n",
              " 133,\n",
              " 130,\n",
              " 118,\n",
              " 157,\n",
              " 154,\n",
              " 103,\n",
              " 97,\n",
              " 163,\n",
              " 130,\n",
              " 88,\n",
              " 151,\n",
              " 130,\n",
              " 121,\n",
              " 160,\n",
              " 139,\n",
              " 112,\n",
              " 118,\n",
              " 163,\n",
              " 148,\n",
              " 58,\n",
              " 139,\n",
              " 130,\n",
              " 160,\n",
              " 157,\n",
              " 112,\n",
              " 103,\n",
              " 115,\n",
              " 127,\n",
              " 121,\n",
              " 154,\n",
              " 145,\n",
              " 154,\n",
              " 130,\n",
              " 184,\n",
              " 130,\n",
              " 136,\n",
              " 109,\n",
              " 130,\n",
              " 139,\n",
              " 136,\n",
              " 121,\n",
              " 94,\n",
              " 127,\n",
              " 121,\n",
              " 139,\n",
              " 187,\n",
              " 112,\n",
              " 145,\n",
              " 121,\n",
              " 133,\n",
              " 112,\n",
              " 121,\n",
              " 124,\n",
              " 118,\n",
              " 109,\n",
              " 124,\n",
              " 163,\n",
              " 184,\n",
              " 127,\n",
              " 127,\n",
              " 136,\n",
              " 142,\n",
              " 112,\n",
              " 145,\n",
              " 127,\n",
              " 124,\n",
              " 103,\n",
              " 184,\n",
              " 112,\n",
              " 133,\n",
              " 124,\n",
              " 157,\n",
              " 169,\n",
              " 121,\n",
              " 136,\n",
              " 112,\n",
              " 151,\n",
              " 124,\n",
              " 181,\n",
              " 115,\n",
              " 118,\n",
              " 115,\n",
              " 118,\n",
              " 118,\n",
              " 148,\n",
              " 124,\n",
              " 70,\n",
              " 124,\n",
              " 133,\n",
              " 148,\n",
              " 142,\n",
              " 151,\n",
              " 169,\n",
              " 145,\n",
              " 130,\n",
              " 130,\n",
              " 109,\n",
              " 130,\n",
              " 127,\n",
              " 70,\n",
              " 121,\n",
              " 115,\n",
              " 139,\n",
              " 145,\n",
              " 130,\n",
              " 124,\n",
              " 118,\n",
              " 154,\n",
              " 118,\n",
              " 193,\n",
              " 136,\n",
              " 175,\n",
              " 139,\n",
              " 118,\n",
              " 130,\n",
              " 97,\n",
              " 112,\n",
              " 106,\n",
              " 133,\n",
              " 157,\n",
              " 115,\n",
              " 142,\n",
              " 106,\n",
              " 148,\n",
              " 115,\n",
              " 148,\n",
              " 151,\n",
              " 154,\n",
              " 130,\n",
              " 139,\n",
              " 133,\n",
              " 139,\n",
              " 151,\n",
              " 115,\n",
              " 118,\n",
              " 184,\n",
              " 178,\n",
              " 136,\n",
              " 106,\n",
              " 157,\n",
              " 106,\n",
              " 127,\n",
              " 160,\n",
              " 139,\n",
              " 130,\n",
              " 163,\n",
              " 127,\n",
              " 118,\n",
              " 121,\n",
              " 118,\n",
              " 211,\n",
              " 136,\n",
              " 106,\n",
              " 145,\n",
              " 169,\n",
              " 139,\n",
              " 130,\n",
              " 127,\n",
              " 127,\n",
              " 157,\n",
              " 157,\n",
              " 97,\n",
              " 139,\n",
              " 157,\n",
              " 118,\n",
              " 133,\n",
              " 100,\n",
              " 133,\n",
              " 157,\n",
              " 109,\n",
              " 130,\n",
              " 157,\n",
              " 130,\n",
              " 142,\n",
              " 160,\n",
              " 88,\n",
              " 133,\n",
              " 130,\n",
              " 136,\n",
              " 118,\n",
              " 133,\n",
              " 136,\n",
              " 148,\n",
              " 109,\n",
              " 118,\n",
              " 166,\n",
              " 121,\n",
              " 130,\n",
              " 160,\n",
              " 154,\n",
              " 166,\n",
              " 151,\n",
              " ...]"
            ]
          },
          "metadata": {
            "tags": []
          },
          "execution_count": 119
        }
      ]
    },
    {
      "cell_type": "code",
      "metadata": {
        "colab": {
          "base_uri": "https://localhost:8080/",
          "height": 512
        },
        "id": "mFgiEqzg7q3X",
        "outputId": "327cd14e-f739-46db-f289-f0b352d2ad99"
      },
      "source": [
        "sns.jointplot(dim1,dim2)"
      ],
      "execution_count": null,
      "outputs": [
        {
          "output_type": "stream",
          "text": [
            "/usr/local/lib/python3.7/dist-packages/seaborn/_decorators.py:43: FutureWarning: Pass the following variables as keyword args: x, y. From version 0.12, the only valid positional argument will be `data`, and passing other arguments without an explicit keyword will result in an error or misinterpretation.\n",
            "  FutureWarning\n"
          ],
          "name": "stderr"
        },
        {
          "output_type": "execute_result",
          "data": {
            "text/plain": [
              "<seaborn.axisgrid.JointGrid at 0x7f2652abdf90>"
            ]
          },
          "metadata": {
            "tags": []
          },
          "execution_count": 120
        },
        {
          "output_type": "display_data",
          "data": {
            "image/png": "[encoded data removed]",
            "text/plain": [
              "<Figure size 432x432 with 3 Axes>"
            ]
          },
          "metadata": {
            "tags": [],
            "needs_background": "light"
          }
        }
      ]
    },
    {
      "cell_type": "code",
      "metadata": {
        "colab": {
          "base_uri": "https://localhost:8080/"
        },
        "id": "_X7CYHRl8YI5",
        "outputId": "d670308b-98ab-4533-e057-26d690117f62"
      },
      "source": [
        "print(np.mean(dim1),np.mean(dim2))"
      ],
      "execution_count": null,
      "outputs": [
        {
          "output_type": "stream",
          "text": [
            "130.92538461538462 130.75\n"
          ],
          "name": "stdout"
        }
      ]
    },
    {
      "cell_type": "code",
      "metadata": {
        "id": "0PiBohGE9cEm"
      },
      "source": [
        "image_shape = (130,130,3)"
      ],
      "execution_count": null,
      "outputs": []
    },
    {
      "cell_type": "markdown",
      "metadata": {
        "id": "uGrNbMEZ98vw"
      },
      "source": [
        "### Preprocessing"
      ]
    },
    {
      "cell_type": "code",
      "metadata": {
        "id": "yN5q0ZDv9ki_"
      },
      "source": [
        "from tensorflow.keras.preprocessing.image import ImageDataGenerator"
      ],
      "execution_count": null,
      "outputs": []
    },
    {
      "cell_type": "markdown",
      "metadata": {
        "id": "0U2iAvvvCBZC"
      },
      "source": [
        "##### As the images provided to us my still be restrictive, we randomly flip,rotate, expand etc the image to increase our chances of detection.\n",
        "##### The random image generator arguments are dependent on the nature of image."
      ]
    },
    {
      "cell_type": "code",
      "metadata": {
        "id": "JCmSRnk_-aeP"
      },
      "source": [
        "image_gen = ImageDataGenerator(rotation_range=20,\n",
        "                               width_shift_range=0.1,\n",
        "                               height_shift_range=0.1,\n",
        "                               shear_range=0.1,\n",
        "                               zoom_range=0.1,\n",
        "                               horizontal_flip=True,\n",
        "                               fill_mode='nearest',)"
      ],
      "execution_count": null,
      "outputs": []
    },
    {
      "cell_type": "code",
      "metadata": {
        "colab": {
          "base_uri": "https://localhost:8080/"
        },
        "id": "kpQfJ8m9AU5F",
        "outputId": "7e9c7890-574f-46cc-b5b7-9643469d474c"
      },
      "source": [
        "image_gen.flow_from_directory(data_dir+'/train/')"
      ],
      "execution_count": null,
      "outputs": [
        {
          "output_type": "stream",
          "text": [
            "Found 24964 images belonging to 2 classes.\n"
          ],
          "name": "stdout"
        },
        {
          "output_type": "execute_result",
          "data": {
            "text/plain": [
              "<tensorflow.python.keras.preprocessing.image.DirectoryIterator at 0x7f25fee7d890>"
            ]
          },
          "metadata": {
            "tags": []
          },
          "execution_count": 150
        }
      ]
    },
    {
      "cell_type": "code",
      "metadata": {
        "colab": {
          "base_uri": "https://localhost:8080/"
        },
        "id": "qILpiEYCDLtS",
        "outputId": "b61c6750-65e4-4e85-fec0-5bfcfa75cac2"
      },
      "source": [
        "image_gen.flow_from_directory(data_dir+'/test/')"
      ],
      "execution_count": null,
      "outputs": [
        {
          "output_type": "stream",
          "text": [
            "Found 2600 images belonging to 2 classes.\n"
          ],
          "name": "stdout"
        },
        {
          "output_type": "execute_result",
          "data": {
            "text/plain": [
              "<tensorflow.python.keras.preprocessing.image.DirectoryIterator at 0x7f25fee3b890>"
            ]
          },
          "metadata": {
            "tags": []
          },
          "execution_count": 151
        }
      ]
    },
    {
      "cell_type": "markdown",
      "metadata": {
        "id": "yPAEwewiDy1e"
      },
      "source": [
        "### Model"
      ]
    },
    {
      "cell_type": "code",
      "metadata": {
        "id": "3aJFG9iNDcwa"
      },
      "source": [
        "from tensorflow.keras.models import Sequential\n",
        "from tensorflow.keras.layers import Dense,Conv2D,MaxPool2D,Dropout,Flatten"
      ],
      "execution_count": null,
      "outputs": []
    },
    {
      "cell_type": "code",
      "metadata": {
        "id": "Ly33Km92EHNm"
      },
      "source": [
        "model = Sequential()\n",
        "\n",
        "model.add(Conv2D(filters=32,kernel_size=(3,3),input_shape=image_shape,\n",
        "                 activation='relu'))\n",
        "model.add(MaxPool2D(pool_size=(2,2)))\n",
        "\n",
        "model.add(Conv2D(filters=64,kernel_size=(3,3),input_shape=image_shape,\n",
        "                 activation='relu'))\n",
        "model.add(MaxPool2D(pool_size=(2,2)))\n",
        "\n",
        "model.add(Conv2D(filters=64,kernel_size=(3,3),input_shape=image_shape,\n",
        "                 activation='relu'))\n",
        "model.add(MaxPool2D(pool_size=(2,2)))\n",
        "\n",
        "model.add(Flatten())\n",
        "\n",
        "model.add(Dense(128,activation='relu'))\n",
        "model.add(Dropout(0.5))\n",
        "\n",
        "model.add(Dense(1,activation='sigmoid'))\n",
        "\n",
        "model.compile(loss='binary_crossentropy',optimizer='adam',\n",
        "              metrics=['accuracy'])"
      ],
      "execution_count": null,
      "outputs": []
    },
    {
      "cell_type": "code",
      "metadata": {
        "id": "NH7y6oQGFl73"
      },
      "source": [
        "from tensorflow.keras.callbacks import EarlyStopping"
      ],
      "execution_count": null,
      "outputs": []
    },
    {
      "cell_type": "code",
      "metadata": {
        "id": "_JU6rPKUFyP6"
      },
      "source": [
        "early_stop = EarlyStopping(monitor='val_loss',patience=2)"
      ],
      "execution_count": null,
      "outputs": []
    },
    {
      "cell_type": "code",
      "metadata": {
        "colab": {
          "base_uri": "https://localhost:8080/"
        },
        "id": "YyJD0fouF6vF",
        "outputId": "6fb3b5b3-b241-44de-cb18-2e693188cbdd"
      },
      "source": [
        "train_image_gen = image_gen.flow_from_directory(data_dir+'/train/',target_size=image_shape[:2],\n",
        "                              color_mode='rgb', batch_size=16,\n",
        "                              class_mode='binary')"
      ],
      "execution_count": null,
      "outputs": [
        {
          "output_type": "stream",
          "text": [
            "Found 24964 images belonging to 2 classes.\n"
          ],
          "name": "stdout"
        }
      ]
    },
    {
      "cell_type": "code",
      "metadata": {
        "colab": {
          "base_uri": "https://localhost:8080/"
        },
        "id": "r3wytZYoGqY6",
        "outputId": "70841bf4-c67f-44ef-c6cd-96cd53bd33e8"
      },
      "source": [
        "test_image_gen = image_gen.flow_from_directory(data_dir+'/test/',target_size=image_shape[:2],\n",
        "                              color_mode='rgb', batch_size=16,\n",
        "                              class_mode='binary', shuffle=False)"
      ],
      "execution_count": null,
      "outputs": [
        {
          "output_type": "stream",
          "text": [
            "Found 2600 images belonging to 2 classes.\n"
          ],
          "name": "stdout"
        }
      ]
    },
    {
      "cell_type": "code",
      "metadata": {
        "colab": {
          "base_uri": "https://localhost:8080/"
        },
        "id": "cOnTelMDG1nS",
        "outputId": "e707fcbb-91b2-4f4a-e503-68441be4d51e"
      },
      "source": [
        "train_image_gen.class_indices"
      ],
      "execution_count": null,
      "outputs": [
        {
          "output_type": "execute_result",
          "data": {
            "text/plain": [
              "{'parasitized': 0, 'uninfected': 1}"
            ]
          },
          "metadata": {
            "tags": []
          },
          "execution_count": 158
        }
      ]
    },
    {
      "cell_type": "code",
      "metadata": {
        "colab": {
          "base_uri": "https://localhost:8080/"
        },
        "id": "ZzT8sxnZHDgs",
        "outputId": "98aa494d-b902-4cc4-ec58-8bf7ae2de2b2"
      },
      "source": [
        "results = model.fit(train_image_gen,epochs=20,\n",
        "                    validation_data=test_image_gen,\n",
        "                    callbacks=[early_stop])"
      ],
      "execution_count": null,
      "outputs": [
        {
          "output_type": "stream",
          "text": [
            "Epoch 1/20\n",
            "1561/1561 [==============================] - 842s 539ms/step - loss: 1.1057 - accuracy: 0.5449 - val_loss: 0.6851 - val_accuracy: 0.5596\n",
            "Epoch 2/20\n",
            "1561/1561 [==============================] - 837s 536ms/step - loss: 0.6809 - accuracy: 0.5723 - val_loss: 0.6759 - val_accuracy: 0.5750\n",
            "Epoch 3/20\n",
            "1561/1561 [==============================] - 834s 534ms/step - loss: 0.6766 - accuracy: 0.5826 - val_loss: 0.6753 - val_accuracy: 0.5969\n",
            "Epoch 4/20\n",
            "1561/1561 [==============================] - 833s 534ms/step - loss: 0.6750 - accuracy: 0.5921 - val_loss: 0.6646 - val_accuracy: 0.6065\n",
            "Epoch 5/20\n",
            "1561/1561 [==============================] - 828s 530ms/step - loss: 0.4484 - accuracy: 0.7821 - val_loss: 0.2581 - val_accuracy: 0.9162\n",
            "Epoch 6/20\n",
            "1561/1561 [==============================] - 823s 527ms/step - loss: 0.2045 - accuracy: 0.9378 - val_loss: 0.1674 - val_accuracy: 0.9446\n",
            "Epoch 7/20\n",
            "1561/1561 [==============================] - 821s 526ms/step - loss: 0.1800 - accuracy: 0.9448 - val_loss: 0.1721 - val_accuracy: 0.9442\n",
            "Epoch 8/20\n",
            "1561/1561 [==============================] - 822s 526ms/step - loss: 0.1689 - accuracy: 0.9472 - val_loss: 0.1611 - val_accuracy: 0.9488\n",
            "Epoch 9/20\n",
            "1561/1561 [==============================] - 819s 525ms/step - loss: 0.1740 - accuracy: 0.9452 - val_loss: 0.1780 - val_accuracy: 0.9419\n",
            "Epoch 10/20\n",
            "1561/1561 [==============================] - 820s 525ms/step - loss: 0.1720 - accuracy: 0.9464 - val_loss: 0.1621 - val_accuracy: 0.9481\n"
          ],
          "name": "stdout"
        }
      ]
    },
    {
      "cell_type": "code",
      "metadata": {
        "colab": {
          "base_uri": "https://localhost:8080/"
        },
        "id": "jwIdUs2gHir3",
        "outputId": "e05470a3-5fdb-4385-b26c-4d9856faa2d8"
      },
      "source": [
        "model.evaluate(test_image_gen)"
      ],
      "execution_count": null,
      "outputs": [
        {
          "output_type": "stream",
          "text": [
            "163/163 [==============================] - 33s 205ms/step - loss: 0.1644 - accuracy: 0.9438\n"
          ],
          "name": "stdout"
        },
        {
          "output_type": "execute_result",
          "data": {
            "text/plain": [
              "[0.16444307565689087, 0.9438461661338806]"
            ]
          },
          "metadata": {
            "tags": []
          },
          "execution_count": 160
        }
      ]
    },
    {
      "cell_type": "code",
      "metadata": {
        "id": "eYya7CFAv_1-"
      },
      "source": [
        "pred = (model.predict(test_image_gen))>0.5"
      ],
      "execution_count": null,
      "outputs": []
    },
    {
      "cell_type": "code",
      "metadata": {
        "id": "beDnufq27D8i"
      },
      "source": [
        "from tensorflow.keras.models import load_model"
      ],
      "execution_count": null,
      "outputs": []
    },
    {
      "cell_type": "code",
      "metadata": {
        "id": "CrcyjA2C7Rhv"
      },
      "source": [
        "model.save('malaria_detector.h5')"
      ],
      "execution_count": null,
      "outputs": []
    },
    {
      "cell_type": "code",
      "metadata": {
        "id": "ovEufMeO7vt3"
      },
      "source": [
        "from sklearn.metrics import classification_report,confusion_matrix"
      ],
      "execution_count": null,
      "outputs": []
    },
    {
      "cell_type": "code",
      "metadata": {
        "colab": {
          "base_uri": "https://localhost:8080/"
        },
        "id": "_bSEM3C87zlD",
        "outputId": "ed146a0c-a338-4164-fb8c-ebda1bd2b8c5"
      },
      "source": [
        "print(classification_report(test_image_gen.classes,pred))"
      ],
      "execution_count": null,
      "outputs": [
        {
          "output_type": "stream",
          "text": [
            "              precision    recall  f1-score   support\n",
            "\n",
            "           0       0.95      0.93      0.94      1300\n",
            "           1       0.93      0.95      0.94      1300\n",
            "\n",
            "    accuracy                           0.94      2600\n",
            "   macro avg       0.94      0.94      0.94      2600\n",
            "weighted avg       0.94      0.94      0.94      2600\n",
            "\n"
          ],
          "name": "stdout"
        }
      ]
    },
    {
      "cell_type": "code",
      "metadata": {
        "colab": {
          "base_uri": "https://localhost:8080/"
        },
        "id": "dPdkT72A8Hr4",
        "outputId": "6da3d58a-cb96-457f-fcab-9aa7c4cc65ca"
      },
      "source": [
        "print(confusion_matrix(test_image_gen.classes,pred))"
      ],
      "execution_count": null,
      "outputs": [
        {
          "output_type": "stream",
          "text": [
            "[[1212   88]\n",
            " [  62 1238]]\n"
          ],
          "name": "stdout"
        }
      ]
    },
    {
      "cell_type": "code",
      "metadata": {
        "id": "POkb80NKdajX"
      },
      "source": [
        "from tensorflow.keras.preprocessing import image"
      ],
      "execution_count": null,
      "outputs": []
    },
    {
      "cell_type": "code",
      "metadata": {
        "colab": {
          "base_uri": "https://localhost:8080/",
          "height": 35
        },
        "id": "V10IuYk6dpg5",
        "outputId": "646d49f5-9c87-48f9-d9f8-0fe6f5107eec"
      },
      "source": [
        "para_cell = parasite_tpath+os.listdir(parasite_tpath)[0]\n",
        "para_cell"
      ],
      "execution_count": null,
      "outputs": [
        {
          "output_type": "execute_result",
          "data": {
            "application/vnd.google.colaboratory.intrinsic+json": {
              "type": "string"
            },
            "text/plain": [
              "'/content/drive/MyDrive/cell_images/train/parasitized/C99P60ThinF_IMG_20150918_141857_cell_50.png'"
            ]
          },
          "metadata": {
            "tags": []
          },
          "execution_count": 175
        }
      ]
    },
    {
      "cell_type": "code",
      "metadata": {
        "colab": {
          "base_uri": "https://localhost:8080/",
          "height": 147
        },
        "id": "MZcvJyLyeAsp",
        "outputId": "b8408c0a-06f0-46f0-a277-0c943977953e"
      },
      "source": [
        "my_image = image.load_img(para_cell,target_size=image_shape)\n",
        "my_image"
      ],
      "execution_count": null,
      "outputs": [
        {
          "output_type": "execute_result",
          "data": {
            "image/png": "[encoded data removed]",
            "text/plain": [
              "<PIL.Image.Image image mode=RGB size=130x130 at 0x7F2600AF32D0>"
            ]
          },
          "metadata": {
            "tags": []
          },
          "execution_count": 177
        }
      ]
    },
    {
      "cell_type": "code",
      "metadata": {
        "colab": {
          "base_uri": "https://localhost:8080/"
        },
        "id": "mnQq65m0eibL",
        "outputId": "a399d5a1-1960-4952-bdec-65fe2bf37891"
      },
      "source": [
        "my_img_arr = image.img_to_array(my_image)\n",
        "my_img_arr.shape"
      ],
      "execution_count": null,
      "outputs": [
        {
          "output_type": "execute_result",
          "data": {
            "text/plain": [
              "(130, 130, 3)"
            ]
          },
          "metadata": {
            "tags": []
          },
          "execution_count": 181
        }
      ]
    },
    {
      "cell_type": "code",
      "metadata": {
        "id": "RCJVvYVQez9F"
      },
      "source": [
        "# Because the image array should be (1,130,130,3)\n",
        "my_img_arr = np.expand_dims(my_img_arr,axis=0)"
      ],
      "execution_count": null,
      "outputs": []
    },
    {
      "cell_type": "code",
      "metadata": {
        "colab": {
          "base_uri": "https://localhost:8080/"
        },
        "id": "68PqeKfxfS9I",
        "outputId": "f99f3fec-7a46-4b44-8718-a880a9988d78"
      },
      "source": [
        "my_img_arr.shape"
      ],
      "execution_count": null,
      "outputs": [
        {
          "output_type": "execute_result",
          "data": {
            "text/plain": [
              "(1, 130, 130, 3)"
            ]
          },
          "metadata": {
            "tags": []
          },
          "execution_count": 183
        }
      ]
    },
    {
      "cell_type": "code",
      "metadata": {
        "colab": {
          "base_uri": "https://localhost:8080/"
        },
        "id": "KHcxULhWfV4v",
        "outputId": "c272317a-65be-44c8-de4a-29affccb58b9"
      },
      "source": [
        "model.predict(my_img_arr)>0.5"
      ],
      "execution_count": null,
      "outputs": [
        {
          "output_type": "execute_result",
          "data": {
            "text/plain": [
              "array([[False]])"
            ]
          },
          "metadata": {
            "tags": []
          },
          "execution_count": 185
        }
      ]
    },
    {
      "cell_type": "code",
      "metadata": {
        "colab": {
          "base_uri": "https://localhost:8080/"
        },
        "id": "-l7La6c8fZ3f",
        "outputId": "26735e4c-cd17-4078-9f5d-33f782a41d17"
      },
      "source": [
        "train_image_gen.class_indices"
      ],
      "execution_count": null,
      "outputs": [
        {
          "output_type": "execute_result",
          "data": {
            "text/plain": [
              "{'parasitized': 0, 'uninfected': 1}"
            ]
          },
          "metadata": {
            "tags": []
          },
          "execution_count": 186
        }
      ]
    },
    {
      "cell_type": "markdown",
      "metadata": {
        "id": "WBcrjjOpfuF8"
      },
      "source": [
        "## Thus it shows that since '0' indicates a paracitic cell our prediction is accurate."
      ]
    },
    {
      "cell_type": "code",
      "metadata": {
        "id": "c1t_Y4-sfsCo"
      },
      "source": [
        ""
      ],
      "execution_count": null,
      "outputs": []
    }
  ]
}